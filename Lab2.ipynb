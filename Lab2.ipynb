{
 "cells": [
  {
   "cell_type": "markdown",
   "id": "d8970d6e-777d-458e-936e-c100b5613446",
   "metadata": {},
   "source": [
    "# Lab 2 "
   ]
  },
  {
   "cell_type": "code",
   "execution_count": 13,
   "id": "aadda6a5-24a8-472e-80b7-ba1af07b673f",
   "metadata": {},
   "outputs": [],
   "source": [
    "import warnings\n",
    "warnings.simplefilter('ignore')\n",
    "\n",
    "import pandas as pd\n",
    "\n",
    "df = pd.read_csv(\"s3://ia340-connor-jmu/Warehouse_and_Retail_Sales.csv\") # load the data from s3"
   ]
  },
  {
   "cell_type": "code",
   "execution_count": 14,
   "id": "13ec60b3-0e89-4bcc-b170-6e0be67911d1",
   "metadata": {},
   "outputs": [
    {
     "data": {
      "text/html": [
       "<div>\n",
       "<style scoped>\n",
       "    .dataframe tbody tr th:only-of-type {\n",
       "        vertical-align: middle;\n",
       "    }\n",
       "\n",
       "    .dataframe tbody tr th {\n",
       "        vertical-align: top;\n",
       "    }\n",
       "\n",
       "    .dataframe thead th {\n",
       "        text-align: right;\n",
       "    }\n",
       "</style>\n",
       "<table border=\"1\" class=\"dataframe\">\n",
       "  <thead>\n",
       "    <tr style=\"text-align: right;\">\n",
       "      <th></th>\n",
       "      <th>YEAR</th>\n",
       "      <th>MONTH</th>\n",
       "      <th>SUPPLIER</th>\n",
       "      <th>ITEM CODE</th>\n",
       "      <th>ITEM DESCRIPTION</th>\n",
       "      <th>ITEM TYPE</th>\n",
       "      <th>RETAIL SALES</th>\n",
       "      <th>RETAIL TRANSFERS</th>\n",
       "      <th>WAREHOUSE SALES</th>\n",
       "    </tr>\n",
       "  </thead>\n",
       "  <tbody>\n",
       "    <tr>\n",
       "      <th>0</th>\n",
       "      <td>2020</td>\n",
       "      <td>1</td>\n",
       "      <td>REPUBLIC NATIONAL DISTRIBUTING CO</td>\n",
       "      <td>100009</td>\n",
       "      <td>BOOTLEG RED - 750ML</td>\n",
       "      <td>WINE</td>\n",
       "      <td>0.00</td>\n",
       "      <td>0.0</td>\n",
       "      <td>2.0</td>\n",
       "    </tr>\n",
       "    <tr>\n",
       "      <th>1</th>\n",
       "      <td>2020</td>\n",
       "      <td>1</td>\n",
       "      <td>PWSWN INC</td>\n",
       "      <td>100024</td>\n",
       "      <td>MOMENT DE PLAISIR - 750ML</td>\n",
       "      <td>WINE</td>\n",
       "      <td>0.00</td>\n",
       "      <td>1.0</td>\n",
       "      <td>4.0</td>\n",
       "    </tr>\n",
       "    <tr>\n",
       "      <th>2</th>\n",
       "      <td>2020</td>\n",
       "      <td>1</td>\n",
       "      <td>RELIABLE CHURCHILL LLLP</td>\n",
       "      <td>1001</td>\n",
       "      <td>S SMITH ORGANIC PEAR CIDER - 18.7OZ</td>\n",
       "      <td>BEER</td>\n",
       "      <td>0.00</td>\n",
       "      <td>0.0</td>\n",
       "      <td>1.0</td>\n",
       "    </tr>\n",
       "    <tr>\n",
       "      <th>3</th>\n",
       "      <td>2020</td>\n",
       "      <td>1</td>\n",
       "      <td>LANTERNA DISTRIBUTORS INC</td>\n",
       "      <td>100145</td>\n",
       "      <td>SCHLINK HAUS KABINETT - 750ML</td>\n",
       "      <td>WINE</td>\n",
       "      <td>0.00</td>\n",
       "      <td>0.0</td>\n",
       "      <td>1.0</td>\n",
       "    </tr>\n",
       "    <tr>\n",
       "      <th>4</th>\n",
       "      <td>2020</td>\n",
       "      <td>1</td>\n",
       "      <td>DIONYSOS IMPORTS INC</td>\n",
       "      <td>100293</td>\n",
       "      <td>SANTORINI GAVALA WHITE - 750ML</td>\n",
       "      <td>WINE</td>\n",
       "      <td>0.82</td>\n",
       "      <td>0.0</td>\n",
       "      <td>0.0</td>\n",
       "    </tr>\n",
       "  </tbody>\n",
       "</table>\n",
       "</div>"
      ],
      "text/plain": [
       "   YEAR  MONTH                           SUPPLIER ITEM CODE  \\\n",
       "0  2020      1  REPUBLIC NATIONAL DISTRIBUTING CO    100009   \n",
       "1  2020      1                          PWSWN INC    100024   \n",
       "2  2020      1            RELIABLE CHURCHILL LLLP      1001   \n",
       "3  2020      1          LANTERNA DISTRIBUTORS INC    100145   \n",
       "4  2020      1               DIONYSOS IMPORTS INC    100293   \n",
       "\n",
       "                      ITEM DESCRIPTION ITEM TYPE  RETAIL SALES  \\\n",
       "0                  BOOTLEG RED - 750ML      WINE          0.00   \n",
       "1            MOMENT DE PLAISIR - 750ML      WINE          0.00   \n",
       "2  S SMITH ORGANIC PEAR CIDER - 18.7OZ      BEER          0.00   \n",
       "3        SCHLINK HAUS KABINETT - 750ML      WINE          0.00   \n",
       "4       SANTORINI GAVALA WHITE - 750ML      WINE          0.82   \n",
       "\n",
       "   RETAIL TRANSFERS  WAREHOUSE SALES  \n",
       "0               0.0              2.0  \n",
       "1               1.0              4.0  \n",
       "2               0.0              1.0  \n",
       "3               0.0              1.0  \n",
       "4               0.0              0.0  "
      ]
     },
     "execution_count": 14,
     "metadata": {},
     "output_type": "execute_result"
    }
   ],
   "source": [
    "df.head() #Shows 5 rows starting with 0 "
   ]
  },
  {
   "cell_type": "code",
   "execution_count": 15,
   "id": "fbe2bf12-406a-4ab2-949c-93cc93a81641",
   "metadata": {},
   "outputs": [
    {
     "data": {
      "text/plain": [
       "(307645, 9)"
      ]
     },
     "execution_count": 15,
     "metadata": {},
     "output_type": "execute_result"
    }
   ],
   "source": [
    "df.shape"
   ]
  },
  {
   "cell_type": "code",
   "execution_count": 16,
   "id": "10e69fa1-7275-4ac8-bceb-a0c88aeb1670",
   "metadata": {},
   "outputs": [
    {
     "name": "stdout",
     "output_type": "stream",
     "text": [
      "<class 'pandas.core.frame.DataFrame'>\n",
      "RangeIndex: 307645 entries, 0 to 307644\n",
      "Data columns (total 9 columns):\n",
      " #   Column            Non-Null Count   Dtype  \n",
      "---  ------            --------------   -----  \n",
      " 0   YEAR              307645 non-null  int64  \n",
      " 1   MONTH             307645 non-null  int64  \n",
      " 2   SUPPLIER          307478 non-null  object \n",
      " 3   ITEM CODE         307645 non-null  object \n",
      " 4   ITEM DESCRIPTION  307645 non-null  object \n",
      " 5   ITEM TYPE         307644 non-null  object \n",
      " 6   RETAIL SALES      307642 non-null  float64\n",
      " 7   RETAIL TRANSFERS  307645 non-null  float64\n",
      " 8   WAREHOUSE SALES   307645 non-null  float64\n",
      "dtypes: float64(3), int64(2), object(4)\n",
      "memory usage: 21.1+ MB\n"
     ]
    }
   ],
   "source": [
    "df.info()"
   ]
  },
  {
   "cell_type": "markdown",
   "id": "32d9aa81-a89c-48e6-8901-0654667b98bb",
   "metadata": {},
   "source": [
    "df.describe(include='all')  # The data seems clean but has some missing values."
   ]
  },
  {
   "cell_type": "code",
   "execution_count": 19,
   "id": "1ba3fdcd-7505-40ef-80e7-df6b5577df58",
   "metadata": {},
   "outputs": [],
   "source": [
    "df.rename(columns={'ITEM CODE': 'CODE'}, inplace=True)"
   ]
  },
  {
   "cell_type": "code",
   "execution_count": 27,
   "id": "9c2fe0ff-536e-4045-a359-9ada989791af",
   "metadata": {},
   "outputs": [
    {
     "data": {
      "text/plain": [
       "YEAR                0\n",
       "MONTH               0\n",
       "SUPPLIER            0\n",
       "CODE                0\n",
       "ITEM DESCRIPTION    0\n",
       "ITEM TYPE           0\n",
       "RETAIL SALES        0\n",
       "RETAIL TRANSFERS    0\n",
       "WAREHOUSE SALES     0\n",
       "dtype: int64"
      ]
     },
     "execution_count": 27,
     "metadata": {},
     "output_type": "execute_result"
    }
   ],
   "source": [
    "df.isnull().sum()  #Renamed column: `Item code` 'CODE` 38 Missing values were found. I handled missing values by **dropping rows** with nulls."
   ]
  },
  {
   "cell_type": "markdown",
   "id": "1e95dab6-2b6d-47f3-a344-7fd58345f85a",
   "metadata": {},
   "source": [
    "Renamed column: `Item code` 'CODE` 38 Missing values were found. I handled missing values by **dropping rows** with nulls."
   ]
  },
  {
   "cell_type": "code",
   "execution_count": 26,
   "id": "f9faef28-1764-47cb-8c8b-266563972657",
   "metadata": {},
   "outputs": [],
   "source": [
    "df['CODE'].fillna('Unknown', inplace=True)"
   ]
  },
  {
   "cell_type": "code",
   "execution_count": 28,
   "id": "bfb07604-a1ec-49d6-ac69-e8cfd728b570",
   "metadata": {},
   "outputs": [
    {
     "data": {
      "text/plain": [
       "0          0.00\n",
       "1          0.00\n",
       "2          0.00\n",
       "3          0.00\n",
       "4          0.82\n",
       "          ...  \n",
       "307639     5.50\n",
       "307640     0.00\n",
       "307641    66.12\n",
       "307642     2.25\n",
       "307643    20.50\n",
       "Name: RETAIL SALES, Length: 307477, dtype: float64"
      ]
     },
     "execution_count": 28,
     "metadata": {},
     "output_type": "execute_result"
    }
   ],
   "source": [
    "df['RETAIL SALES']"
   ]
  },
  {
   "cell_type": "code",
   "execution_count": 35,
   "id": "76b69fb0-7782-468b-ae3f-6a265647a979",
   "metadata": {},
   "outputs": [
    {
     "data": {
      "text/html": [
       "<div>\n",
       "<style scoped>\n",
       "    .dataframe tbody tr th:only-of-type {\n",
       "        vertical-align: middle;\n",
       "    }\n",
       "\n",
       "    .dataframe tbody tr th {\n",
       "        vertical-align: top;\n",
       "    }\n",
       "\n",
       "    .dataframe thead th {\n",
       "        text-align: right;\n",
       "    }\n",
       "</style>\n",
       "<table border=\"1\" class=\"dataframe\">\n",
       "  <thead>\n",
       "    <tr style=\"text-align: right;\">\n",
       "      <th></th>\n",
       "      <th>YEAR</th>\n",
       "      <th>MONTH</th>\n",
       "      <th>SUPPLIER</th>\n",
       "      <th>CODE</th>\n",
       "      <th>ITEM DESCRIPTION</th>\n",
       "      <th>ITEM TYPE</th>\n",
       "      <th>RETAIL SALES</th>\n",
       "      <th>RETAIL TRANSFERS</th>\n",
       "      <th>WAREHOUSE SALES</th>\n",
       "    </tr>\n",
       "  </thead>\n",
       "  <tbody>\n",
       "    <tr>\n",
       "      <th>5</th>\n",
       "      <td>2020</td>\n",
       "      <td>1</td>\n",
       "      <td>KYSELA PERE ET FILS LTD</td>\n",
       "      <td>100641</td>\n",
       "      <td>CORTENOVA VENETO P/GRIG - 750ML</td>\n",
       "      <td>WINE</td>\n",
       "      <td>2.76</td>\n",
       "      <td>0.0</td>\n",
       "      <td>6.0</td>\n",
       "    </tr>\n",
       "    <tr>\n",
       "      <th>6</th>\n",
       "      <td>2020</td>\n",
       "      <td>1</td>\n",
       "      <td>SANTA MARGHERITA USA INC</td>\n",
       "      <td>100749</td>\n",
       "      <td>SANTA MARGHERITA P/GRIG ALTO - 375ML</td>\n",
       "      <td>WINE</td>\n",
       "      <td>0.08</td>\n",
       "      <td>1.0</td>\n",
       "      <td>1.0</td>\n",
       "    </tr>\n",
       "    <tr>\n",
       "      <th>7</th>\n",
       "      <td>2020</td>\n",
       "      <td>1</td>\n",
       "      <td>BROWN-FORMAN BEVERAGES WORLDWIDE</td>\n",
       "      <td>1008</td>\n",
       "      <td>JACK DANIELS COUNTRY COCKTAIL SOUTHERN PEACH -...</td>\n",
       "      <td>BEER</td>\n",
       "      <td>0.00</td>\n",
       "      <td>0.0</td>\n",
       "      <td>2.0</td>\n",
       "    </tr>\n",
       "    <tr>\n",
       "      <th>8</th>\n",
       "      <td>2020</td>\n",
       "      <td>1</td>\n",
       "      <td>JIM BEAM BRANDS CO</td>\n",
       "      <td>10103</td>\n",
       "      <td>KNOB CREEK BOURBON 9YR - 100P - 375ML</td>\n",
       "      <td>LIQUOR</td>\n",
       "      <td>6.41</td>\n",
       "      <td>4.0</td>\n",
       "      <td>0.0</td>\n",
       "    </tr>\n",
       "    <tr>\n",
       "      <th>9</th>\n",
       "      <td>2020</td>\n",
       "      <td>1</td>\n",
       "      <td>INTERNATIONAL CELLARS LLC</td>\n",
       "      <td>101117</td>\n",
       "      <td>KSARA CAB - 750ML</td>\n",
       "      <td>WINE</td>\n",
       "      <td>0.33</td>\n",
       "      <td>1.0</td>\n",
       "      <td>2.0</td>\n",
       "    </tr>\n",
       "    <tr>\n",
       "      <th>10</th>\n",
       "      <td>2020</td>\n",
       "      <td>1</td>\n",
       "      <td>HEAVEN HILL DISTILLERIES INC</td>\n",
       "      <td>10120</td>\n",
       "      <td>J W DANT BOURBON 100P - 1.75L</td>\n",
       "      <td>LIQUOR</td>\n",
       "      <td>1.70</td>\n",
       "      <td>1.0</td>\n",
       "      <td>0.0</td>\n",
       "    </tr>\n",
       "  </tbody>\n",
       "</table>\n",
       "</div>"
      ],
      "text/plain": [
       "    YEAR  MONTH                          SUPPLIER    CODE  \\\n",
       "5   2020      1           KYSELA PERE ET FILS LTD  100641   \n",
       "6   2020      1          SANTA MARGHERITA USA INC  100749   \n",
       "7   2020      1  BROWN-FORMAN BEVERAGES WORLDWIDE    1008   \n",
       "8   2020      1                JIM BEAM BRANDS CO   10103   \n",
       "9   2020      1         INTERNATIONAL CELLARS LLC  101117   \n",
       "10  2020      1      HEAVEN HILL DISTILLERIES INC   10120   \n",
       "\n",
       "                                     ITEM DESCRIPTION ITEM TYPE  RETAIL SALES  \\\n",
       "5                     CORTENOVA VENETO P/GRIG - 750ML      WINE          2.76   \n",
       "6                SANTA MARGHERITA P/GRIG ALTO - 375ML      WINE          0.08   \n",
       "7   JACK DANIELS COUNTRY COCKTAIL SOUTHERN PEACH -...      BEER          0.00   \n",
       "8               KNOB CREEK BOURBON 9YR - 100P - 375ML    LIQUOR          6.41   \n",
       "9                                   KSARA CAB - 750ML      WINE          0.33   \n",
       "10                      J W DANT BOURBON 100P - 1.75L    LIQUOR          1.70   \n",
       "\n",
       "    RETAIL TRANSFERS  WAREHOUSE SALES  \n",
       "5                0.0              6.0  \n",
       "6                1.0              1.0  \n",
       "7                0.0              2.0  \n",
       "8                4.0              0.0  \n",
       "9                1.0              2.0  \n",
       "10               1.0              0.0  "
      ]
     },
     "execution_count": 35,
     "metadata": {},
     "output_type": "execute_result"
    }
   ],
   "source": [
    "df[5:11]"
   ]
  },
  {
   "cell_type": "markdown",
   "id": "4ec994d3-b734-4769-b971-0509bd82b20c",
   "metadata": {
    "scrolled": true
   },
   "source": [
    "df_filtered.head() # I selected the column ColumnName to examine individual values.\n",
    "\n",
    "The data was sorted based on YEar to see trends .\n",
    "\n",
    "I sliced rows 5 through 10 to get a manageable sample of the data.\n",
    "\n",
    "I filtered rows where RETIL SALE, which helped isolate records that meet a specific condition"
   ]
  },
  {
   "cell_type": "code",
   "execution_count": 52,
   "id": "b814174f-afab-41ce-aea7-8f4732528d9d",
   "metadata": {},
   "outputs": [
    {
     "data": {
      "text/html": [
       "<div>\n",
       "<style scoped>\n",
       "    .dataframe tbody tr th:only-of-type {\n",
       "        vertical-align: middle;\n",
       "    }\n",
       "\n",
       "    .dataframe tbody tr th {\n",
       "        vertical-align: top;\n",
       "    }\n",
       "\n",
       "    .dataframe thead th {\n",
       "        text-align: right;\n",
       "    }\n",
       "</style>\n",
       "<table border=\"1\" class=\"dataframe\">\n",
       "  <thead>\n",
       "    <tr style=\"text-align: right;\">\n",
       "      <th></th>\n",
       "      <th>YEAR</th>\n",
       "      <th>RETAIL SALES</th>\n",
       "    </tr>\n",
       "  </thead>\n",
       "  <tbody>\n",
       "    <tr>\n",
       "      <th>0</th>\n",
       "      <td>2017</td>\n",
       "      <td>7.134015</td>\n",
       "    </tr>\n",
       "    <tr>\n",
       "      <th>1</th>\n",
       "      <td>2018</td>\n",
       "      <td>5.809444</td>\n",
       "    </tr>\n",
       "    <tr>\n",
       "      <th>2</th>\n",
       "      <td>2019</td>\n",
       "      <td>6.916169</td>\n",
       "    </tr>\n",
       "    <tr>\n",
       "      <th>3</th>\n",
       "      <td>2020</td>\n",
       "      <td>7.677231</td>\n",
       "    </tr>\n",
       "  </tbody>\n",
       "</table>\n",
       "</div>"
      ],
      "text/plain": [
       "   YEAR  RETAIL SALES\n",
       "0  2017      7.134015\n",
       "1  2018      5.809444\n",
       "2  2019      6.916169\n",
       "3  2020      7.677231"
      ]
     },
     "execution_count": 52,
     "metadata": {},
     "output_type": "execute_result"
    }
   ],
   "source": [
    "df.groupby('YEAR')['RETAIL SALES'].mean().reset_index()"
   ]
  },
  {
   "cell_type": "code",
   "execution_count": 61,
   "id": "764ed24a-b20b-48c8-98e3-115a74497107",
   "metadata": {},
   "outputs": [
    {
     "data": {
      "image/png": "[encoded data removed]",
      "text/plain": [
       "<Figure size 640x480 with 1 Axes>"
      ]
     },
     "metadata": {},
     "output_type": "display_data"
    }
   ],
   "source": [
    "df.plot(x='RETAIL SALES', y='YEAR', kind='scatter')\n",
    "plt.title('Scatter Plot of YEAR vs RETAIL PRICE')\n",
    "plt.xlabel('RETAIL PRICE')\n",
    "plt.ylabel('YEAR')\n",
    "plt.show()"
   ]
  },
  {
   "cell_type": "markdown",
   "id": "228e7adb-b2d6-4026-b783-dff7ca9a7b3b",
   "metadata": {},
   "source": [
    "This scatter plot shows the relationship between year and price.\n",
    "A positive trend can be seen, meaning a possible correlation. There may also be outliers or clusters worth exploring further."
   ]
  }
 ],
 "metadata": {
  "kernelspec": {
   "display_name": "conda_python3",
   "language": "python",
   "name": "conda_python3"
  },
  "language_info": {
   "codemirror_mode": {
    "name": "ipython",
    "version": 3
   },
   "file_extension": ".py",
   "mimetype": "text/x-python",
   "name": "python",
   "nbconvert_exporter": "python",
   "pygments_lexer": "ipython3",
   "version": "3.10.18"
  }
 },
 "nbformat": 4,
 "nbformat_minor": 5
}
